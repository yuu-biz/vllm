{
 "cells": [
  {
   "cell_type": "code",
   "execution_count": 1,
   "metadata": {},
   "outputs": [
    {
     "name": "stdout",
     "output_type": "stream",
     "text": [
      "prompt_embeddings: torch.Size([8, 4096])\n",
      "8\n"
     ]
    }
   ],
   "source": [
    "from safetensors import safe_open\n",
    "\n",
    "# Replace 'your_file.safetensors' with the path to your SafeTensors file\n",
    "filename = \"adapter_model.safetensors\"\n",
    "\n",
    "# Open the SafeTensors file\n",
    "with safe_open(filename, framework=\"pt\") as f:\n",
    "    # Read tensor by key\n",
    "    for key in f.keys():\n",
    "        tensor = f.get_tensor(key)\n",
    "        print(f\"{key}: {tensor.shape}\")\n",
    "        print(len(tensor))\n"
   ]
  },
  {
   "cell_type": "code",
   "execution_count": null,
   "metadata": {},
   "outputs": [],
   "source": []
  }
 ],
 "metadata": {
  "kernelspec": {
   "display_name": "Python 3",
   "language": "python",
   "name": "python3"
  },
  "language_info": {
   "codemirror_mode": {
    "name": "ipython",
    "version": 3
   },
   "file_extension": ".py",
   "mimetype": "text/x-python",
   "name": "python",
   "nbconvert_exporter": "python",
   "pygments_lexer": "ipython3",
   "version": "3.10.12"
  }
 },
 "nbformat": 4,
 "nbformat_minor": 2
}
